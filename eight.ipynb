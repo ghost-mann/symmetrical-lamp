{
 "cells": [
  {
   "cell_type": "code",
   "execution_count": 2,
   "id": "3b4db950",
   "metadata": {},
   "outputs": [
    {
     "name": "stdout",
     "output_type": "stream",
     "text": [
      "<Response [200]>\n",
      "{'coord': {'lon': 36.8167, 'lat': -1.2833}, 'weather': [{'id': 500, 'main': 'Rain', 'description': 'light rain', 'icon': '10d'}], 'base': 'stations', 'main': {'temp': 294.08, 'feels_like': 294, 'temp_min': 293.77, 'temp_max': 294.08, 'pressure': 1017, 'humidity': 68, 'sea_level': 1017, 'grnd_level': 840}, 'visibility': 10000, 'wind': {'speed': 3.6, 'deg': 180}, 'rain': {'1h': 0.86}, 'clouds': {'all': 40}, 'dt': 1746604836, 'sys': {'type': 1, 'id': 2558, 'country': 'KE', 'sunrise': 1746588441, 'sunset': 1746631871}, 'timezone': 10800, 'id': 184745, 'name': 'Nairobi', 'cod': 200}\n"
     ]
    }
   ],
   "source": [
    "from dotenv import load_dotenv\n",
    "import os\n",
    "import requests\n",
    "import pandas as pd\n",
    "\n",
    "load_dotenv()\n",
    "\n",
    "city = 'Nairobi'\n",
    "api_key = os.getenv('API_KEY')\n",
    "\n",
    "url= f'https://api.openweathermap.org/data/2.5/weather?q={city}&appid={api_key}'\n",
    "\n",
    "response = requests.get(url)\n",
    "print(response)\n",
    "\n",
    "data = response.json()\n",
    "print(data)"
   ]
  },
  {
   "cell_type": "code",
   "execution_count": 3,
   "id": "2bf036ed",
   "metadata": {},
   "outputs": [
    {
     "name": "stdout",
     "output_type": "stream",
     "text": [
      "      City  Temperature(k)  Humidity(%) Description\n",
      "0  Nairobi          294.08           68  light rain\n"
     ]
    }
   ],
   "source": [
    "if response.status_code == 200:\n",
    "   city = data.get('name')\n",
    "   temperature = data['main']['temp']\n",
    "   humidity = data['main']['humidity']\n",
    "   description = data['weather'][0]['description']\n",
    "\n",
    "   weather_data = {\n",
    "       'City' : [city],\n",
    "       'Temperature(k)' : [temperature],\n",
    "       'Humidity(%)' : [humidity],\n",
    "       'Description' : [description]\n",
    "   }\n",
    "\n",
    "   df = pd.DataFrame(weather_data)\n",
    "   print(df)\n",
    "   \n",
    "else:\n",
    "    print(f\"Error! : {response.status_code}\")\n",
    "\n",
    "data = pd.DataFrame"
   ]
  },
  {
   "cell_type": "code",
   "execution_count": 4,
   "id": "aeaeb6c1",
   "metadata": {},
   "outputs": [
    {
     "data": {
      "text/plain": [
       "1"
      ]
     },
     "execution_count": 4,
     "metadata": {},
     "output_type": "execute_result"
    }
   ],
   "source": [
    "from sqlalchemy import create_engine\n",
    "import pandas as pd \n",
    "import os\n",
    "from dotenv import load_dotenv\n",
    "load_dotenv()\n",
    "\n",
    "user = os.getenv('DB_USER')\n",
    "password = os.getenv('DB_PASSWORD')\n",
    "host = os.getenv('DB_HOST')\n",
    "database = os.getenv('DB_NAME')\n",
    "port = os.getenv('DB_PORT')\n",
    "\n",
    "# creating sql engine\n",
    "engine = create_engine(f\"postgresql://{user}:{password}@{host}:{port}/{database}\")\n",
    "\n",
    "df = pd.DataFrame(weather_data)\n",
    "df.to_sql(\"nairobi_weather\", engine, if_exists=\"replace\")\n"
   ]
  }
 ],
 "metadata": {
  "kernelspec": {
   "display_name": ".venv",
   "language": "python",
   "name": "python3"
  },
  "language_info": {
   "codemirror_mode": {
    "name": "ipython",
    "version": 3
   },
   "file_extension": ".py",
   "mimetype": "text/x-python",
   "name": "python",
   "nbconvert_exporter": "python",
   "pygments_lexer": "ipython3",
   "version": "3.11.2"
  }
 },
 "nbformat": 4,
 "nbformat_minor": 5
}
