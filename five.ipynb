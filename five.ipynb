{
 "cells": [
  {
   "cell_type": "markdown",
   "id": "ed4ea3c3",
   "metadata": {},
   "source": [
    "## Classes\n",
    "- A class is a blueprint used to create objects.\n",
    "- An object is an instance of a class."
   ]
  },
  {
   "cell_type": "code",
   "execution_count": null,
   "id": "4be9170c",
   "metadata": {},
   "outputs": [],
   "source": [
    "class Employee:\n",
    "    def __init__(self, first, last, email, pay):\n",
    "        self.first = first\n",
    "        self.last = last\n",
    "        self.email = email\n",
    "        self.pay = pay\n",
    "\n",
    "# object - instance of a class\n",
    "emp_1 = Employee('Austin', 'Oketch', 'aob@gmail.com', 10000)\n",
    "emp_2 = Employee('John', 'Doe', 'johndoe@gmail.com', 40000)\n",
    "\n",
    "print(emp_1)\n",
    "print(emp_2)\n",
    "print(emp_1.email)\n"
   ]
  },
  {
   "cell_type": "code",
   "execution_count": null,
   "id": "c48dc8f6",
   "metadata": {},
   "outputs": [],
   "source": [
    "class Bike:\n",
    "    def __init__(self,name,gear):\n",
    "        self.name = name\n",
    "        self.gear = gear\n",
    "    \n",
    "    def display(self):\n",
    "        print(f\"Bike Name: {self.name},Gears: {self.gear}\")\n",
    "\n"
   ]
  },
  {
   "cell_type": "code",
   "execution_count": null,
   "id": "1d4e9cbd",
   "metadata": {},
   "outputs": [],
   "source": [
    "bike1 = Bike('Raleigh',7)\n",
    "bike1.display()"
   ]
  },
  {
   "cell_type": "code",
   "execution_count": null,
   "id": "681c0b7c",
   "metadata": {},
   "outputs": [],
   "source": [
    "class Employee:\n",
    "    def __init__(self, first, last):\n",
    "        self.email = first + '.' + last + \"@company.com\"\n",
    "\n",
    "emp = Employee(\"John\", \"Doe\")\n",
    "print(emp.email)"
   ]
  },
  {
   "cell_type": "code",
   "execution_count": null,
   "id": "f5582d0e",
   "metadata": {},
   "outputs": [],
   "source": [
    "class Employee:\n",
    "    def __init__(self, name, salary):\n",
    "        self.name = name\n",
    "        self.salary = salary\n",
    "\n",
    "    def calculate_bonus(self):\n",
    "        return self.salary * 0.10"
   ]
  },
  {
   "cell_type": "code",
   "execution_count": null,
   "id": "0d748fc3",
   "metadata": {},
   "outputs": [],
   "source": [
    "emp = Employee(\"John\", 5000)\n",
    "print(emp.calculate_bonus())\n",
    "def calculate_bonus(salary):\n",
    "    return salary * 0.10\n",
    "\n",
    "print(calculate_bonus(5000))"
   ]
  },
  {
   "cell_type": "markdown",
   "id": "78854fd5",
   "metadata": {},
   "source": [
    "### Encapsulation\n",
    "- "
   ]
  },
  {
   "cell_type": "code",
   "execution_count": null,
   "id": "acdfa157",
   "metadata": {},
   "outputs": [],
   "source": [
    "class BankAccount:\n",
    "    def __init__(self, owner, balance=0):\n",
    "        self.owner = owner\n",
    "        self._balance = balance  # protected attribute\n",
    "\n",
    "    def deposit(self, amount):\n",
    "        if amount > 0:\n",
    "            self._balance += amount\n",
    "\n",
    "    def withdraw(self, amount):\n",
    "        if amount <= self._balance:\n",
    "            self._balance -= amount\n",
    "        else:\n",
    "            print(\"Insufficient funds.\")\n",
    "\n",
    "    def get_balance(self):\n",
    "        return self._balance\n",
    "\n",
    "\n",
    "# Usage\n",
    "acc = BankAccount(\"Alice\")\n",
    "acc.deposit(1000)\n",
    "acc.withdraw(300)\n",
    "print(f\"{acc.owner}'s Balance:\", acc.get_balance())"
   ]
  },
  {
   "cell_type": "markdown",
   "id": "89e6bfad",
   "metadata": {},
   "source": [
    "### Inheritance\n",
    "- Allows a class to inherit attributes and methods."
   ]
  },
  {
   "cell_type": "code",
   "execution_count": null,
   "id": "fea1402d",
   "metadata": {},
   "outputs": [],
   "source": [
    "class Animal:\n",
    "    def __init__(self, name):\n",
    "        self.name = name\n",
    "\n",
    "    def eat(self):\n",
    "        print(f\"{self.name} is eating.\")\n",
    "\n",
    "class Dog(Animal):\n",
    "    def bark(self):\n",
    "        print(f\"{self.name} says: Woof!\")\n",
    "\n",
    "\n",
    "# Usage\n",
    "dog1 = Dog(\"Buddy\")\n",
    "dog1.eat()    # inherited method\n",
    "dog1.bark()   # new method"
   ]
  },
  {
   "cell_type": "code",
   "execution_count": null,
   "id": "12f2e9ae",
   "metadata": {},
   "outputs": [],
   "source": [
    "class Animal:\n",
    "    def __init__(self,name):\n",
    "        self.name = name\n",
    "    \n",
    "    def eat(self):\n",
    "        print(f\"{self.name} has eaten!\")\n",
    "    \n",
    "class Dog(Animal):\n",
    "    def bark(self):\n",
    "        print(f\"{self.name} says: Woof\")\n",
    "\n",
    "dog_1 = Dog(\"Kama\")\n",
    "dog_1.eat()\n"
   ]
  },
  {
   "cell_type": "code",
   "execution_count": null,
   "id": "7896e8fd",
   "metadata": {},
   "outputs": [],
   "source": [
    "class Car:\n",
    "    def __init__(self,make,model,year):\n",
    "        self.make = make\n",
    "        self.model = model\n",
    "        self.year = year\n",
    "\n",
    "    def display_info(self):\n",
    "        print(f\"{self.make} {self.model} {self.make}\")\n",
    "\n",
    "car_1 = Car(2015,'E-class','Mercedes')\n",
    "car_1.display_info()\n"
   ]
  },
  {
   "cell_type": "code",
   "execution_count": null,
   "id": "d345c5e6",
   "metadata": {},
   "outputs": [],
   "source": [
    "class Animal:\n",
    "    def speak(self):\n",
    "        print(\"Some generic animal sound: \")\n",
    "\n",
    "class Dog(Animal):\n",
    "    def speak(self):\n",
    "        print(\"Woof\")\n",
    "\n",
    "class Cat(Animal):\n",
    "    def speak(self):\n",
    "        print(\"Meow\")\n",
    "\n",
    "Animals = [Dog(), Cat(), Animal()]\n",
    "\n",
    "for Animal in Animals:\n",
    "    Animal.speak()"
   ]
  },
  {
   "cell_type": "markdown",
   "id": "347a33ed",
   "metadata": {},
   "source": [
    "### Abstraction\n",
    "\n",
    "- Its about hiding internal implementation.\n",
    " "
   ]
  },
  {
   "cell_type": "code",
   "execution_count": 13,
   "id": "83267708",
   "metadata": {},
   "outputs": [
    {
     "name": "stdout",
     "output_type": "stream",
     "text": [
      "Woof!\n",
      "Meow!\n"
     ]
    }
   ],
   "source": [
    "from abc import ABC, abstractmethod\n",
    "\n",
    "class Animal(ABC):\n",
    "    @abstractmethod\n",
    "    def make_sound(self):\n",
    "        pass\n",
    "\n",
    "class Dog(Animal):\n",
    "    def make_sound(self):\n",
    "        print(\"Woof!\")\n",
    "\n",
    "class Cat(Animal):\n",
    "    def make_sound(self):\n",
    "        print(\"Meow!\")\n",
    "\n",
    "dog = Dog()\n",
    "dog.make_sound()\n",
    "\n",
    "cat = Cat()\n",
    "cat.make_sound()\n"
   ]
  },
  {
   "cell_type": "code",
   "execution_count": 14,
   "id": "d366837e",
   "metadata": {},
   "outputs": [
    {
     "name": "stdout",
     "output_type": "stream",
     "text": [
      "kidagaa is available!\n"
     ]
    }
   ],
   "source": [
    "class Library:\n",
    "    def __init__(self):\n",
    "        self._books = []\n",
    "    \n",
    "    def add_books(self,book):\n",
    "        if book in self._books:\n",
    "            return f\"{book} is already added!\"\n",
    "        else:\n",
    "            self._books.append(book)\n",
    "\n",
    "    def check_out(self,book):\n",
    "        if book in self._books:\n",
    "            self._books.remove(book)\n",
    "            return f\"{book} has been checked out!\"\n",
    "        else:\n",
    "            return f\"{book} is not available!\"\n",
    "\n",
    "    def is_available(self,book):\n",
    "        if book in self._books:\n",
    "            return f\"{book} is available!\"\n",
    "        else:\n",
    "            return f\"{book} is not available!\"\n",
    "\n",
    "library = Library()\n",
    "library.add_books(\"kidagaa\")\n",
    "library.add_books(\"kigogo\")\n",
    "print(library.is_available(\"kidagaa\")) \n"
   ]
  }
 ],
 "metadata": {
  "kernelspec": {
   "display_name": ".venv",
   "language": "python",
   "name": "python3"
  },
  "language_info": {
   "codemirror_mode": {
    "name": "ipython",
    "version": 3
   },
   "file_extension": ".py",
   "mimetype": "text/x-python",
   "name": "python",
   "nbconvert_exporter": "python",
   "pygments_lexer": "ipython3",
   "version": "3.11.2"
  }
 },
 "nbformat": 4,
 "nbformat_minor": 5
}
