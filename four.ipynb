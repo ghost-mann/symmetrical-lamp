{
 "cells": [
  {
   "cell_type": "markdown",
   "id": "6641274d5fe804f4",
   "metadata": {},
   "source": [
    "- List comprehensions are a shorthand method to create new lists by applying expressions on existing lists or sequences."
   ]
  },
  {
   "cell_type": "code",
   "execution_count": null,
   "id": "66b34ecd55ae8753",
   "metadata": {},
   "outputs": [],
   "source": [
    "## new_list = [expression for item in iterable]"
   ]
  },
  {
   "cell_type": "markdown",
   "id": "694cf8557ced2efa",
   "metadata": {},
   "source": [
    "- expression: The operation or value you want to apply to each element.\n",
    "- item: Each individual element in the sequence (such as a list or range).\n",
    "- iterable: The sequence (like a list or range) you’re iterating over."
   ]
  },
  {
   "cell_type": "code",
   "execution_count": 1,
   "id": "b562464a7659a0a2",
   "metadata": {
    "ExecuteTime": {
     "end_time": "2025-04-21T18:19:06.746437Z",
     "start_time": "2025-04-21T18:19:06.732998Z"
    }
   },
   "outputs": [
    {
     "data": {
      "text/plain": [
       "[0, 1, 4, 9, 16, 25, 36, 49, 64, 81]"
      ]
     },
     "execution_count": 1,
     "metadata": {},
     "output_type": "execute_result"
    }
   ],
   "source": [
    "squares = []\n",
    "for i in range(10):\n",
    "    squares.append(i ** 2)\n",
    "squares"
   ]
  },
  {
   "cell_type": "markdown",
   "id": "fa3ce5994aeffb35",
   "metadata": {},
   "source": [
    "### Filtering with list comprehensions\n",
    "- Filtering is a common task in programming where you want to create a new list based on a condition applied to the elements of an existing iterable\n"
   ]
  },
  {
   "cell_type": "code",
   "execution_count": 6,
   "id": "85bee2aa379b7557",
   "metadata": {
    "ExecuteTime": {
     "end_time": "2025-04-22T06:10:30.991601Z",
     "start_time": "2025-04-22T06:10:30.985814Z"
    }
   },
   "outputs": [
    {
     "name": "stdout",
     "output_type": "stream",
     "text": [
      "[-4, -3, -2, -1, 0]\n"
     ]
    }
   ],
   "source": [
    "# number 1\n",
    "old_num = [-4,-3,-2,-1,0,2,4,6]\n",
    "new_num = [i for i in old_num if i <= 0]\n",
    "print(new_num)"
   ]
  },
  {
   "cell_type": "markdown",
   "id": "6e40188cd7af631",
   "metadata": {},
   "source": [
    "- syntax for flattening\n",
    "`flattened_list = [element for sublist in list_of_lists for element in sublist]`\n",
    "- element: The individual item from the sublist.\n",
    "- sublist: Each sublist within the main list.\n",
    "- list_of_lists: The main list containing nested lists."
   ]
  },
  {
   "cell_type": "code",
   "execution_count": 5,
   "id": "b247013649220568",
   "metadata": {
    "ExecuteTime": {
     "end_time": "2025-04-22T06:09:22.465236Z",
     "start_time": "2025-04-22T06:09:22.456881Z"
    }
   },
   "outputs": [
    {
     "data": {
      "text/plain": [
       "[1, 2, 3, 4, 5, 6, 7, 8, 9]"
      ]
     },
     "execution_count": 5,
     "metadata": {},
     "output_type": "execute_result"
    }
   ],
   "source": [
    "# number 2\n",
    "list_of_lists =[[[1, 2, 3]], [[4, 5, 6]], [[7, 8, 9]]]\n",
    "new_list = [i for i in list_of_lists for i in i for i in i]\n",
    "new_list"
   ]
  },
  {
   "cell_type": "code",
   "execution_count": 7,
   "id": "bae27ba05904562f",
   "metadata": {
    "ExecuteTime": {
     "end_time": "2025-04-22T06:27:14.955136Z",
     "start_time": "2025-04-22T06:27:14.946012Z"
    }
   },
   "outputs": [
    {
     "data": {
      "text/plain": [
       "[(0, 1, 0, 0, 0, 0, 0),\n",
       " (1, 1, 1, 1, 1, 1, 1),\n",
       " (2, 1, 2, 4, 8, 16, 32),\n",
       " (3, 1, 3, 9, 27, 81, 243),\n",
       " (4, 1, 4, 16, 64, 256, 1024),\n",
       " (5, 1, 5, 25, 125, 625, 3125),\n",
       " (6, 1, 6, 36, 216, 1296, 7776),\n",
       " (7, 1, 7, 49, 343, 2401, 16807),\n",
       " (8, 1, 8, 64, 512, 4096, 32768),\n",
       " (9, 1, 9, 81, 729, 6561, 59049),\n",
       " (10, 1, 10, 100, 1000, 10000, 100000)]"
      ]
     },
     "execution_count": 7,
     "metadata": {},
     "output_type": "execute_result"
    }
   ],
   "source": [
    "# number 3\n",
    "new_tuple = [(n,1,n,n**2,n**3,n**4,n**5) for n in range(11)]\n",
    "new_tuple"
   ]
  },
  {
   "cell_type": "code",
   "execution_count": 10,
   "id": "6caf002e68cdf5a6",
   "metadata": {
    "ExecuteTime": {
     "end_time": "2025-04-22T06:32:05.069603Z",
     "start_time": "2025-04-22T06:32:05.061107Z"
    }
   },
   "outputs": [
    {
     "data": {
      "text/plain": [
       "[[('FINLAND', 'HELSINKI')], [('SWEDEN', 'STOCKHOLM')], [('NORWAY', 'OSLO')]]"
      ]
     },
     "execution_count": 10,
     "metadata": {},
     "output_type": "execute_result"
    }
   ],
   "source": [
    "countries = [[('Finland', 'Helsinki')], [('Sweden', 'Stockholm')], [('Norway', 'Oslo')]]\n",
    "upper_countries = [[(country.upper(), capital.upper()) for country, capital in sublist] for sublist in countries]\n",
    "upper_countries"
   ]
  },
  {
   "cell_type": "code",
   "execution_count": 1,
   "id": "ac27c4968f0015aa",
   "metadata": {
    "ExecuteTime": {
     "end_time": "2025-04-22T06:36:02.616490Z",
     "start_time": "2025-04-22T06:36:02.608713Z"
    }
   },
   "outputs": [
    {
     "data": {
      "text/plain": [
       "[{'Finland': 'Helsinki'}, {'Sweden': 'Stockholm'}, {'Norway': 'Oslo'}]"
      ]
     },
     "execution_count": 1,
     "metadata": {},
     "output_type": "execute_result"
    }
   ],
   "source": [
    "nations = [[('Finland', 'Helinski'),('Nairobi', 'Kenya')], [('Sweden', 'Stockholm')], [('Norway', 'Oslo')]]\n",
    "nations_dict = [dict([sublist[0]]) for sublist in nations]\n",
    "nations_dict"
   ]
  }
 ],
 "metadata": {
  "kernelspec": {
   "display_name": ".venv",
   "language": "python",
   "name": "python3"
  },
  "language_info": {
   "codemirror_mode": {
    "name": "ipython",
    "version": 3
   },
   "file_extension": ".py",
   "mimetype": "text/x-python",
   "name": "python",
   "nbconvert_exporter": "python",
   "pygments_lexer": "ipython3",
   "version": "3.11.2"
  }
 },
 "nbformat": 4,
 "nbformat_minor": 5
}
