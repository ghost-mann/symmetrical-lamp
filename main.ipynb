{
 "cells": [
  {
   "cell_type": "code",
   "execution_count": 1,
   "metadata": {},
   "outputs": [
    {
     "name": "stdout",
     "output_type": "stream",
     "text": [
      "main\n"
     ]
    }
   ],
   "source": [
    "print('main')"
   ]
  },
  {
   "cell_type": "code",
   "execution_count": null,
   "metadata": {},
   "outputs": [],
   "source": [
    "type(5)"
   ]
  },
  {
   "cell_type": "code",
   "execution_count": null,
   "metadata": {},
   "outputs": [],
   "source": [
    "numbers = [1,2,3,4,5,6,7]\n",
    "len(numbers)"
   ]
  },
  {
   "cell_type": "markdown",
   "metadata": {},
   "source": [
    "CUSTOM FUNCTIONS"
   ]
  },
  {
   "cell_type": "markdown",
   "metadata": {},
   "source": [
    "A Function is a reusable block of code designed to perfom a specific task.\n",
    "To define or declare a function, python uses the def keyword\n",
    "The function block of code is executed only if the function is called or invoke"
   ]
  },
  {
   "cell_type": "code",
   "execution_count": null,
   "metadata": {},
   "outputs": [],
   "source": [
    "# defining function \n",
    "def function_name():\n",
    "    # code\n",
    "    # code\n",
    "\n",
    "# calling a function\n",
    "function_name()"
   ]
  },
  {
   "cell_type": "markdown",
   "metadata": {},
   "source": [
    "Parameters - allow functions to receive values during a function call.\n",
    "\n",
    "It is the variable listed in the parantheses in the function definition.\n",
    "\n",
    "An Argument is value sent to function when it is called/"
   ]
  },
  {
   "cell_type": "code",
   "execution_count": null,
   "metadata": {},
   "outputs": [],
   "source": [
    "Functions can be declared without parameters\n"
   ]
  },
  {
   "cell_type": "code",
   "execution_count": 7,
   "metadata": {},
   "outputs": [],
   "source": [
    "def full_name():\n",
    "    first_name = 'data'\n",
    "    last_name = 'engineer'\n",
    "    full_names = first_name + \" \" + last_name\n",
    "    print(full_names)"
   ]
  },
  {
   "cell_type": "code",
   "execution_count": 8,
   "metadata": {},
   "outputs": [
    {
     "name": "stdout",
     "output_type": "stream",
     "text": [
      "dataengineer\n"
     ]
    }
   ],
   "source": [
    "full_name()"
   ]
  },
  {
   "cell_type": "code",
   "execution_count": null,
   "metadata": {},
   "outputs": [],
   "source": [
    "num_1 = 3\n",
    "num_2 = 4"
   ]
  },
  {
   "cell_type": "code",
   "execution_count": null,
   "metadata": {},
   "outputs": [],
   "source": [
    "def add_2():\n",
    "    total = num_1 + num_2\n",
    "    print(total)"
   ]
  },
  {
   "cell_type": "markdown",
   "metadata": {},
   "source": [
    " ## Function returning a value\n",
    " \n",
    "A function can also return values, if a function does not have a return statement the value of the function is none."
   ]
  },
  {
   "cell_type": "code",
   "execution_count": null,
   "metadata": {},
   "outputs": [],
   "source": [
    "def full_name():\n",
    "    first_name = 'data'\n",
    "    last_name = 'engineer'\n",
    "    full_names = first_name + \" \" + last_name\n",
    "    return full_names"
   ]
  },
  {
   "cell_type": "code",
   "execution_count": 12,
   "metadata": {},
   "outputs": [
    {
     "name": "stdout",
     "output_type": "stream",
     "text": [
      "dataengineer\n"
     ]
    }
   ],
   "source": [
    "full_name()"
   ]
  },
  {
   "cell_type": "code",
   "execution_count": 16,
   "metadata": {},
   "outputs": [
    {
     "data": {
      "text/plain": [
       "14"
      ]
     },
     "execution_count": 16,
     "metadata": {},
     "output_type": "execute_result"
    }
   ],
   "source": [
    "def farm_animals():\n",
    "    cows = 9 \n",
    "    goats = 5\n",
    "    animals = cows + goats\n",
    "    return animals\n",
    "\n",
    "farm_animals()"
   ]
  },
  {
   "cell_type": "code",
   "execution_count": 18,
   "metadata": {},
   "outputs": [
    {
     "data": {
      "text/plain": [
       "314.2"
      ]
     },
     "execution_count": 18,
     "metadata": {},
     "output_type": "execute_result"
    }
   ],
   "source": [
    "def area_circle():\n",
    "    PI = 3.142\n",
    "    radius = 10\n",
    "    area = PI * radius * radius\n",
    "    return area\n",
    "\n",
    "area_circle()"
   ]
  },
  {
   "cell_type": "code",
   "execution_count": 19,
   "metadata": {},
   "outputs": [
    {
     "data": {
      "text/plain": [
       "35.6"
      ]
     },
     "execution_count": 19,
     "metadata": {},
     "output_type": "execute_result"
    }
   ],
   "source": [
    "def convert_temperature():\n",
    "    degrees = 20   \n",
    "    fahrenheit = (degrees * 9 / 5) + 32\n",
    "    return fahrenheit\n",
    "\n",
    "convert_temperature()"
   ]
  },
  {
   "cell_type": "markdown",
   "metadata": {},
   "source": [
    "Function with parameters\n",
    "In function we can pass different data types(number, string, boolean, list, tuple, dict)\n",
    "\n",
    "1. Single Parameter: If our action takes a parameter we should call our function with an argument."
   ]
  },
  {
   "cell_type": "code",
   "execution_count": 20,
   "metadata": {},
   "outputs": [
    {
     "ename": "SyntaxError",
     "evalue": "incomplete input (2697238520.py, line 1)",
     "output_type": "error",
     "traceback": [
      "  \u001b[36mCell\u001b[39m\u001b[36m \u001b[39m\u001b[32mIn[20]\u001b[39m\u001b[32m, line 1\u001b[39m\n\u001b[31m    \u001b[39m\u001b[31mdef function_name(parameter):\u001b[39m\n                                 ^\n\u001b[31mSyntaxError\u001b[39m\u001b[31m:\u001b[39m incomplete input\n"
     ]
    }
   ],
   "source": [
    "def function_name(parameter):\n",
    "   # code\n",
    "   # code\n",
    "\n",
    "print(function_name(argument)) "
   ]
  },
  {
   "cell_type": "code",
   "execution_count": 22,
   "metadata": {},
   "outputs": [
    {
     "name": "stdout",
     "output_type": "stream",
     "text": [
      "Austin, welcome to the python class!\n"
     ]
    }
   ],
   "source": [
    "def greetings(name):\n",
    "    message = name + ', welcome to the python class!'\n",
    "    return message\n",
    "\n",
    "print(greetings('Austin'))"
   ]
  },
  {
   "cell_type": "code",
   "execution_count": 24,
   "metadata": {},
   "outputs": [
    {
     "name": "stdout",
     "output_type": "stream",
     "text": [
      "200\n"
     ]
    }
   ],
   "source": [
    "def add_ten(num):\n",
    "    ten = 10\n",
    "    return num + ten\n",
    "\n",
    "print(add_ten(20))"
   ]
  },
  {
   "cell_type": "code",
   "execution_count": 37,
   "metadata": {},
   "outputs": [
    {
     "name": "stdout",
     "output_type": "stream",
     "text": [
      "summer\n"
     ]
    }
   ],
   "source": [
    "def check_season(month):\n",
    "    Summer = ('May','June','July')\n",
    "    Spring = ('February', 'March', 'April')\n",
    "    Winter = ('November','December','January')\n",
    "    Autumn = ('August','September','October')\n",
    "    \n",
    "    if month in Summer:\n",
    "        return \"summer\"\n",
    "    elif month in Spring:\n",
    "        return \"spring\" \n",
    "    elif month in Winter:\n",
    "        return \"winter\"\n",
    "    elif month in Autumn:\n",
    "        return \"autumn\" \n",
    "    else:\n",
    "        (\"Invalid, try again.\")\n",
    "    \n",
    "    \n",
    "\n",
    "print(check_season(\"June\"))\n"
   ]
  },
  {
   "cell_type": "code",
   "execution_count": 32,
   "metadata": {},
   "outputs": [
    {
     "name": "stdout",
     "output_type": "stream",
     "text": [
      "k\n",
      "a\n",
      "m\n",
      "a\n",
      "u\n",
      "None\n"
     ]
    }
   ],
   "source": [
    "def print_list(lists):\n",
    "    for i in lists:\n",
    "        print(i)\n",
    "\n",
    "print(print_list('kamau'))"
   ]
  },
  {
   "cell_type": "markdown",
   "metadata": {},
   "source": [
    "2.Two parameters:\n",
    "A function may or may not have a parameter or parameters\n",
    "A function may also have two or more parameters\n",
    "If a function takes parameters we should call it with arguments"
   ]
  },
  {
   "cell_type": "code",
   "execution_count": 38,
   "metadata": {},
   "outputs": [
    {
     "ename": "SyntaxError",
     "evalue": "incomplete input (2326175398.py, line 1)",
     "output_type": "error",
     "traceback": [
      "  \u001b[36mCell\u001b[39m\u001b[36m \u001b[39m\u001b[32mIn[38]\u001b[39m\u001b[32m, line 1\u001b[39m\n\u001b[31m    \u001b[39m\u001b[31mdef function_name():\u001b[39m\n                        ^\n\u001b[31mSyntaxError\u001b[39m\u001b[31m:\u001b[39m incomplete input\n"
     ]
    }
   ],
   "source": [
    "def function_name(parameter_1, parameter_2):\n",
    "    # codes\n",
    "print(function_name(argument_1, argument_2))"
   ]
  },
  {
   "cell_type": "code",
   "execution_count": 40,
   "metadata": {},
   "outputs": [
    {
     "name": "stdout",
     "output_type": "stream",
     "text": [
      "44\n"
     ]
    }
   ],
   "source": [
    "def current_age(current_year, birth_year):\n",
    "    today_age = current_year - birth_year\n",
    "    return today_age\n",
    "\n",
    "print(current_age(2024, 1980))"
   ]
  },
  {
   "cell_type": "code",
   "execution_count": 43,
   "metadata": {},
   "outputs": [
    {
     "name": "stdout",
     "output_type": "stream",
     "text": [
      "600\n"
     ]
    }
   ],
   "source": [
    "def rect(length, width):\n",
    "    area = length * width\n",
    "    return area\n",
    "\n",
    "print(rect(20, 30))"
   ]
  },
  {
   "cell_type": "markdown",
   "metadata": {},
   "source": [
    "## Passing arguments with key and value\n",
    "\n",
    "if you pass argument with key and value, the order of the arguments does not matter."
   ]
  },
  {
   "cell_type": "code",
   "execution_count": null,
   "metadata": {},
   "outputs": [],
   "source": [
    "def function_name(param1, param2):\n",
    "    # code\n",
    "\n",
    "print(function_name(param1 = 'lux', param2='dev')) # order of arguments doesn't matter"
   ]
  },
  {
   "cell_type": "code",
   "execution_count": 1,
   "metadata": {},
   "outputs": [
    {
     "name": "stdout",
     "output_type": "stream",
     "text": [
      "austin kamau\n",
      "None\n"
     ]
    }
   ],
   "source": [
    "def full_name(firstname, lastname):\n",
    "    full_names = firstname + \" \" + lastname\n",
    "    print(full_names)\n",
    "\n",
    "print(full_name(\"austin\", \"kamau\"))"
   ]
  },
  {
   "cell_type": "markdown",
   "metadata": {},
   "source": [
    "function "
   ]
  },
  {
   "cell_type": "code",
   "execution_count": null,
   "metadata": {},
   "outputs": [],
   "source": []
  }
 ],
 "metadata": {
  "kernelspec": {
   "display_name": "Python 3",
   "language": "python",
   "name": "python3"
  },
  "language_info": {
   "codemirror_mode": {
    "name": "ipython",
    "version": 3
   },
   "file_extension": ".py",
   "mimetype": "text/x-python",
   "name": "python",
   "nbconvert_exporter": "python",
   "pygments_lexer": "ipython3",
   "version": "3.12.8"
  }
 },
 "nbformat": 4,
 "nbformat_minor": 2
}
