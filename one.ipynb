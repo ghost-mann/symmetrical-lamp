{
 "cells": [
  {
   "cell_type": "code",
   "execution_count": 1,
   "metadata": {},
   "outputs": [
    {
     "data": {
      "text/plain": [
       "7"
      ]
     },
     "execution_count": 1,
     "metadata": {},
     "output_type": "execute_result"
    }
   ],
   "source": [
    "# number 1\n",
    "def add_two_numbers(num_1, num_2):\n",
    "    total = num_1 + num_2\n",
    "    return total\n",
    "\n",
    "add_two_numbers(2,5)"
   ]
  },
  {
   "cell_type": "code",
   "execution_count": 2,
   "metadata": {},
   "outputs": [
    {
     "data": {
      "text/plain": [
       "314.2"
      ]
     },
     "execution_count": 2,
     "metadata": {},
     "output_type": "execute_result"
    }
   ],
   "source": [
    "# number 2\n",
    "def area_of_circle(radius):\n",
    "    PI = 3.142\n",
    "    area = PI * radius * radius\n",
    "    return area\n",
    "\n",
    "area_of_circle(10)"
   ]
  },
  {
   "cell_type": "code",
   "execution_count": 32,
   "metadata": {},
   "outputs": [
    {
     "data": {
      "text/plain": [
       "36.0"
      ]
     },
     "execution_count": 32,
     "metadata": {},
     "output_type": "execute_result"
    }
   ],
   "source": [
    "# number 4 \n",
    "def convert_celsius(celsius):\n",
    "    fahrenheit = (celsius * 9/5) + 32\n",
    "    return fahrenheit\n",
    "\n",
    "convert_celsius(20)"
   ]
  },
  {
   "cell_type": "code",
   "execution_count": 34,
   "metadata": {},
   "outputs": [
    {
     "data": {
      "text/plain": [
       "'Winter'"
      ]
     },
     "execution_count": 34,
     "metadata": {},
     "output_type": "execute_result"
    }
   ],
   "source": [
    "# number 5\n",
    "def check_season(month):\n",
    "    Summer = ('May','June','July')\n",
    "    Spring = ('February', 'March', 'April')\n",
    "    Winter = ('November','December','January')\n",
    "    Autumn = ('August','September','October')\n",
    "\n",
    "    if month in Summer:\n",
    "        return 'Summer'\n",
    "    if month in Spring:\n",
    "        return 'Spring'\n",
    "    if month in Winter:\n",
    "        return 'Winter'\n",
    "    if month in Autumn:\n",
    "        return 'Autumn'\n",
    "    else:\n",
    "        return \"Invalid\"\n",
    "\n",
    "check_season('January')"
   ]
  },
  {
   "cell_type": "code",
   "execution_count": 39,
   "metadata": {},
   "outputs": [
    {
     "data": {
      "text/plain": [
       "-0.42857142857142855"
      ]
     },
     "execution_count": 39,
     "metadata": {},
     "output_type": "execute_result"
    }
   ],
   "source": [
    "# # number 6\n",
    "# ax + by + c = 0\n",
    "# slope = -a/b\n",
    "def calculate_slope(a,b):\n",
    "    if b == 0:\n",
    "        return 'slope is undefined (b=0)'\n",
    "    slope = -a/b\n",
    "    return slope\n",
    "\n",
    "calculate_slope(3,7)"
   ]
  },
  {
   "cell_type": "code",
   "execution_count": 42,
   "metadata": {},
   "outputs": [
    {
     "ename": "SyntaxError",
     "evalue": "incomplete input (1948623029.py, line 17)",
     "output_type": "error",
     "traceback": [
      "  \u001b[36mCell\u001b[39m\u001b[36m \u001b[39m\u001b[32mIn[42]\u001b[39m\u001b[32m, line 17\u001b[39m\n\u001b[31m    \u001b[39m\u001b[31melse:\u001b[39m\n         ^\n\u001b[31mSyntaxError\u001b[39m\u001b[31m:\u001b[39m incomplete input\n"
     ]
    }
   ],
   "source": [
    "# number 7\n",
    "# ax^2 + bx + c = 0\n",
    "import math\n",
    "\n",
    "def solve_quadratic_eqn(a,b,c):\n",
    "    if a == 0:\n",
    "        return 'No equation'\n",
    "    d=b**2-4*a*c #discriminant\n",
    "\n",
    "    if d > 0:\n",
    "        x1 = (-b+math.sqrt(d)/(2 * a))\n",
    "        x2 = (-b+math.sqrt(d)/(2 * a))\n",
    "        return x1,x2\n",
    "    elif d==0:\n",
    "        x=-b/(2 * a)\n",
    "        return x\n",
    "    else:\n",
    "        return 'no solution'\n"
   ]
  },
  {
   "cell_type": "code",
   "execution_count": 11,
   "metadata": {},
   "outputs": [
    {
     "name": "stdout",
     "output_type": "stream",
     "text": [
      "a\n",
      "u\n",
      "s\n",
      "t\n",
      "i\n",
      "n\n"
     ]
    }
   ],
   "source": [
    "# number 8 \n",
    "def print_list(list):\n",
    "    for i in list:\n",
    "        print(i)\n",
    "\n",
    "print_list('austin')"
   ]
  },
  {
   "cell_type": "code",
   "execution_count": 13,
   "metadata": {},
   "outputs": [
    {
     "data": {
      "text/plain": [
       "['n', 'i', 't', 's', 'u', 'a']"
      ]
     },
     "execution_count": 13,
     "metadata": {},
     "output_type": "execute_result"
    }
   ],
   "source": [
    "# number 9\n",
    "def reverse_list(list):\n",
    "    reversed_list = []\n",
    "    for i in range(len(list)-1, -1, -1):\n",
    "        reversed_list.append(list[i])\n",
    "    return reversed_list\n",
    "\n",
    "reverse_list('austin')"
   ]
  },
  {
   "cell_type": "code",
   "execution_count": 35,
   "metadata": {},
   "outputs": [
    {
     "data": {
      "text/plain": [
       "['Apple', 'Mango', 'Orange']"
      ]
     },
     "execution_count": 35,
     "metadata": {},
     "output_type": "execute_result"
    }
   ],
   "source": [
    "# number 10\n",
    "fruits = ['apple','mango','orange']\n",
    "\n",
    "def capitalize_list_items(items):\n",
    "    capitalized_list = [] # Creating an empty list\n",
    "    for i in items: \n",
    "        capitalized_list.append(str(i).capitalize())\n",
    "    return capitalized_list\n",
    "\n",
    "capitalize_list_items(fruits)\n"
   ]
  },
  {
   "cell_type": "code",
   "execution_count": 22,
   "metadata": {},
   "outputs": [
    {
     "data": {
      "text/plain": [
       "[1, 2, 3, 4]"
      ]
     },
     "execution_count": 22,
     "metadata": {},
     "output_type": "execute_result"
    }
   ],
   "source": [
    "# number 11\n",
    "def add_item(list,item):\n",
    "    new_list = list\n",
    "    new_list.append(item)\n",
    "    return new_list\n",
    "\n",
    "add_item([1,2,3], 4)\n",
    "\n",
    "\n"
   ]
  },
  {
   "cell_type": "code",
   "execution_count": 25,
   "metadata": {},
   "outputs": [
    {
     "data": {
      "text/plain": [
       "[1, 3]"
      ]
     },
     "execution_count": 25,
     "metadata": {},
     "output_type": "execute_result"
    }
   ],
   "source": [
    "# number 12\n",
    "def remove_item(list, item):\n",
    "    new_list = list\n",
    "    new_list.remove(item)\n",
    "    return new_list\n",
    "\n",
    "remove_item([1,2,3],2)\n",
    "    "
   ]
  },
  {
   "cell_type": "code",
   "execution_count": 27,
   "metadata": {},
   "outputs": [
    {
     "data": {
      "text/plain": [
       "15"
      ]
     },
     "execution_count": 27,
     "metadata": {},
     "output_type": "execute_result"
    }
   ],
   "source": [
    "# number 13\n",
    "def sum_of_number(number):\n",
    "    total = 0 # keeps track of the sum of all the numbers\n",
    "    for i in range(1, number + 1):\n",
    "        total += i\n",
    "    return total\n",
    "\n",
    "sum_of_number(5)"
   ]
  },
  {
   "cell_type": "code",
   "execution_count": 30,
   "metadata": {},
   "outputs": [
    {
     "data": {
      "text/plain": [
       "16"
      ]
     },
     "execution_count": 30,
     "metadata": {},
     "output_type": "execute_result"
    }
   ],
   "source": [
    "def sum_of_odds(number):\n",
    "    total = 0\n",
    "    for i in range(1, number + 1):\n",
    "        if i % 2 != 0:\n",
    "            total += i\n",
    "    return total\n",
    "\n",
    "sum_of_odds(7)"
   ]
  },
  {
   "cell_type": "code",
   "execution_count": 31,
   "metadata": {},
   "outputs": [
    {
     "data": {
      "text/plain": [
       "6"
      ]
     },
     "execution_count": 31,
     "metadata": {},
     "output_type": "execute_result"
    }
   ],
   "source": [
    "def sum_of_even(number):\n",
    "    total = 0\n",
    "    for i in range(1, number + 1):\n",
    "        if i % 2 == 0:\n",
    "            total += i\n",
    "    return total\n",
    "\n",
    "sum_of_even(4)"
   ]
  }
 ],
 "metadata": {
  "kernelspec": {
   "display_name": "Python 3",
   "language": "python",
   "name": "python3"
  },
  "language_info": {
   "codemirror_mode": {
    "name": "ipython",
    "version": 3
   },
   "file_extension": ".py",
   "mimetype": "text/x-python",
   "name": "python",
   "nbconvert_exporter": "python",
   "pygments_lexer": "ipython3",
   "version": "3.12.8"
  }
 },
 "nbformat": 4,
 "nbformat_minor": 2
}
