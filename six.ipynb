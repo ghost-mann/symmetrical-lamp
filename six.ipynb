{
 "cells": [
  {
   "cell_type": "markdown",
   "id": "ae68993a",
   "metadata": {},
   "source": [
    "Define the Person Class:\n",
    "\n",
    "The Person class should have the following attributes:\n",
    "\n",
    "name (string)\n",
    "\n",
    "age (integer)\n",
    "\n",
    "The class should also have a method introduce() that prints the name and age of the person.\n",
    "\n",
    "Define the Student Class:\n",
    "\n",
    "The Student class should inherit from the Person class.\n",
    "\n",
    "It should have an additional attribute:\n",
    "\n",
    "student_id (string or integer)\n",
    "\n",
    "The Student class should override the introduce() method to also print the student's ID, in addition to their name and age.\n",
    "\n",
    "Testing the Classes:\n",
    "\n",
    "Create an object of the Person class and call the introduce() method.\n",
    "\n",
    "Create an object of the Student class and call the introduce() method.\n",
    "\n",
    "Verify that the Student class correctly inherits from Person and overrides the introduce() method."
   ]
  },
  {
   "cell_type": "code",
   "execution_count": 44,
   "id": "ca9a21a8",
   "metadata": {},
   "outputs": [
    {
     "name": "stdout",
     "output_type": "stream",
     "text": [
      "Kamau, 20\n",
      "Kamau, 20\n",
      "Kamau is studying!\n"
     ]
    }
   ],
   "source": [
    "class Person:\n",
    "    def __init__(self,name,age):\n",
    "        self.name = name\n",
    "        self.age = age\n",
    "    \n",
    "    def introduce(self):\n",
    "        print(f\"{self.name}, {self.age}\")\n",
    "\n",
    "class Student(Person):\n",
    "    def __init__(self,name,age,student_id):\n",
    "        super().__init__(name,age)\n",
    "        # Person.__init__(self,name,age)\n",
    "        self.student_id = student_id\n",
    "\n",
    "    def introduce(self):\n",
    "        super().introduce()\n",
    "        print(f\"{self.name} is studying!\")\n",
    "        \n",
    "person = Person(\"Kamau\", 20)\n",
    "person.introduce()\n",
    "student = Student(\"Kamau\",20,202020)\n",
    "student.introduce()\n",
    "\n",
    "\n"
   ]
  },
  {
   "cell_type": "markdown",
   "id": "326be6a8",
   "metadata": {},
   "source": [
    "Define the Animal Class:\n",
    "\n",
    "The Animal class should have a method speak() that prints \"Some generic animal sound\".\n",
    "\n",
    "Define the Dog Class:\n",
    "\n",
    "The Dog class should inherit from Animal.\n",
    "\n",
    "Override the speak() method to print \"Woof!\" (the sound dogs make).\n",
    "\n",
    "Define the Cat Class:\n",
    "\n",
    "The Cat class should also inherit from Animal.\n",
    "\n",
    "Override the speak() method to print \"Meow!\" (the sound cats make).\n",
    "\n",
    "Create a List of Animals:\n",
    "\n",
    "Create a list of different animal objects (e.g., Dog, Cat, Animal)."
   ]
  },
  {
   "cell_type": "code",
   "execution_count": 54,
   "id": "2948ca0f",
   "metadata": {},
   "outputs": [
    {
     "name": "stdout",
     "output_type": "stream",
     "text": [
      "WOOF\n",
      "MEOW\n",
      "Some generic animal sound!\n",
      "MOOO\n"
     ]
    }
   ],
   "source": [
    "class Animal: \n",
    "    def speak(self):\n",
    "        print(\"Some generic animal sound!\")\n",
    "\n",
    "class Dog(Animal):\n",
    "     def speak(self):\n",
    "          print(\"WOOF\")\n",
    "\n",
    "class Cat(Animal):\n",
    "     def speak(self):\n",
    "          print(\"MEOW\")\n",
    "\n",
    "class Cow(Animal):\n",
    "     def speak(self):\n",
    "          print(\"MOOO\")\n",
    "\n",
    "animals = [Dog(),Cat(),Animal(),Cow()]\n",
    "\n",
    "for i in animals:\n",
    "     i.speak()\n",
    "    "
   ]
  }
 ],
 "metadata": {
  "kernelspec": {
   "display_name": ".venv",
   "language": "python",
   "name": "python3"
  },
  "language_info": {
   "codemirror_mode": {
    "name": "ipython",
    "version": 3
   },
   "file_extension": ".py",
   "mimetype": "text/x-python",
   "name": "python",
   "nbconvert_exporter": "python",
   "pygments_lexer": "ipython3",
   "version": "3.11.2"
  }
 },
 "nbformat": 4,
 "nbformat_minor": 5
}
