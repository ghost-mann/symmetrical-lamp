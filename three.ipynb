{
 "cells": [
  {
   "cell_type": "markdown",
   "metadata": {},
   "source": [
    "## Control Flows and Conditional Statements\n",
    "\n",
    " Conditionals\n",
    "\n",
    " - if,else,elif\n",
    "\n",
    " ## if condition\n",
    " - In python the keyword if is used to check if a condition is true and to execute the block of code.\n",
    "\n",
    " - N/B: You should remember the indentation after the colon.\n",
    " "
   ]
  },
  {
   "cell_type": "code",
   "execution_count": null,
   "metadata": {},
   "outputs": [],
   "source": [
    "# syntax\n",
    "if condition:\n",
    "    # command to be executed"
   ]
  },
  {
   "cell_type": "code",
   "execution_count": 8,
   "metadata": {},
   "outputs": [],
   "source": [
    "number = -3"
   ]
  },
  {
   "cell_type": "code",
   "execution_count": 4,
   "metadata": {},
   "outputs": [
    {
     "name": "stdout",
     "output_type": "stream",
     "text": [
      "positive\n"
     ]
    }
   ],
   "source": [
    "if number > 0:\n",
    "    print('positive')\n"
   ]
  },
  {
   "cell_type": "markdown",
   "metadata": {},
   "source": [
    "## if else\n",
    "- if a condition is true the first block will be executed, if not the else condition will run."
   ]
  },
  {
   "cell_type": "code",
   "execution_count": null,
   "metadata": {},
   "outputs": [],
   "source": [
    "if number > 0:\n",
    "    print('positive')\n",
    "else:\n",
    "    print('negative')"
   ]
  },
  {
   "cell_type": "markdown",
   "metadata": {},
   "source": [
    "## Elif Condition\n",
    "- We use lif when we have multiple conditions\n"
   ]
  },
  {
   "cell_type": "code",
   "execution_count": null,
   "metadata": {},
   "outputs": [],
   "source": [
    "# syntax\n",
    "if condition:\n",
    "    # code\n",
    "elif condition:\n",
    "    #code\n",
    "else:\n",
    "    #code"
   ]
  },
  {
   "cell_type": "code",
   "execution_count": 9,
   "metadata": {},
   "outputs": [
    {
     "name": "stdout",
     "output_type": "stream",
     "text": [
      "negative\n"
     ]
    }
   ],
   "source": [
    "if number > 0:\n",
    "    print('positive')\n",
    "elif number < 0:\n",
    "    print('negative')\n",
    "else:\n",
    "    print('zero')"
   ]
  },
  {
   "cell_type": "markdown",
   "metadata": {},
   "source": [
    "## Short Hand\n",
    "code if condititon else code"
   ]
  },
  {
   "cell_type": "code",
   "execution_count": 10,
   "metadata": {},
   "outputs": [
    {
     "name": "stdout",
     "output_type": "stream",
     "text": [
      "Negative\n"
     ]
    }
   ],
   "source": [
    "print('Positive') if number > 0 else print('Negative')"
   ]
  },
  {
   "cell_type": "code",
   "execution_count": 3,
   "metadata": {},
   "outputs": [
    {
     "name": "stdout",
     "output_type": "stream",
     "text": [
      "You are old enough to drive!\n"
     ]
    }
   ],
   "source": [
    "age = int(input(\"Enter your age: \"))\n",
    "missing_years = 18 - age\n",
    "\n",
    "print(\"You are old enough to drive!\") if age >= 18 else print(f\"Wait for {missing_years} years!\")\n"
   ]
  },
  {
   "cell_type": "code",
   "execution_count": 4,
   "metadata": {},
   "outputs": [
    {
     "name": "stdout",
     "output_type": "stream",
     "text": [
      "a is less than b\n"
     ]
    }
   ],
   "source": [
    "# number 2\n",
    "a = int(input(\"Number a?: \"))\n",
    "b = int(input(\"NUmber b?: \"))\n",
    "\n",
    "def a_or_b():\n",
    "    if a > b:\n",
    "        return 'a is greater than b'\n",
    "    elif a < b:\n",
    "        return 'a is less than b'\n",
    "    else:\n",
    "        return 'a is equal to b'\n",
    "    \n",
    "print(a_or_b())"
   ]
  },
  {
   "cell_type": "markdown",
   "metadata": {},
   "source": [
    "## Nested conditions\n",
    "\n",
    "- Nested means one thing is placed within another."
   ]
  },
  {
   "cell_type": "code",
   "execution_count": null,
   "metadata": {},
   "outputs": [],
   "source": [
    "# syntax \n",
    "if conditions:\n",
    "    # code\n",
    "    if conditions:\n",
    "        # code"
   ]
  },
  {
   "cell_type": "code",
   "execution_count": 10,
   "metadata": {},
   "outputs": [],
   "source": [
    "temp = 9"
   ]
  },
  {
   "cell_type": "code",
   "execution_count": 8,
   "metadata": {},
   "outputs": [
    {
     "name": "stdout",
     "output_type": "stream",
     "text": [
      "Temp is zero\n"
     ]
    }
   ],
   "source": [
    "if temp > 0:\n",
    "    if temp % 2 == 0:\n",
    "        print(\"Temp is postive and and even\")\n",
    "    else:\n",
    "        print(\"Temp is positive number\")\n",
    "elif temp == 0:\n",
    "    print(\"Temp is zero\")\n",
    "else:\n",
    "    print(\"Temp is a negative number\")\n",
    "    "
   ]
  },
  {
   "cell_type": "markdown",
   "metadata": {},
   "source": [
    "## if condition and logical operators\n",
    "\n",
    "- We can avoid writing nested condition by using logical operator and "
   ]
  },
  {
   "cell_type": "code",
   "execution_count": null,
   "metadata": {},
   "outputs": [],
   "source": [
    "# # syntax\n",
    "# if condition and condition:\n",
    "#     # code"
   ]
  },
  {
   "cell_type": "code",
   "execution_count": 12,
   "metadata": {},
   "outputs": [
    {
     "name": "stdout",
     "output_type": "stream",
     "text": [
      "temp is positive and odd\n"
     ]
    }
   ],
   "source": [
    "if temp > 0 and temp % 2 == 0:\n",
    "    print(\"temp is positive and an even number\")\n",
    "elif temp > 0 and temp % 2 != 0:\n",
    "    print(\"temp is positive and odd\")\n",
    "elif temp == 0:\n",
    "    print(\"Temp is zero\")\n",
    "else:\n",
    "    print(\"Temp is a negative number\")  "
   ]
  },
  {
   "cell_type": "markdown",
   "metadata": {},
   "source": [
    "## if and or logical operators"
   ]
  },
  {
   "cell_type": "code",
   "execution_count": 13,
   "metadata": {},
   "outputs": [
    {
     "ename": "SyntaxError",
     "evalue": "incomplete input (638324357.py, line 2)",
     "output_type": "error",
     "traceback": [
      "  \u001b[36mCell\u001b[39m\u001b[36m \u001b[39m\u001b[32mIn[13]\u001b[39m\u001b[32m, line 2\u001b[39m\n\u001b[31m    \u001b[39m\u001b[31mif condition or condition:\u001b[39m\n                              ^\n\u001b[31mSyntaxError\u001b[39m\u001b[31m:\u001b[39m incomplete input\n"
     ]
    }
   ],
   "source": [
    "# syntax\n",
    "if condition or condition:\n",
    "    # code\n"
   ]
  },
  {
   "cell_type": "code",
   "execution_count": 29,
   "metadata": {},
   "outputs": [],
   "source": [
    "name = 'mioro'\n",
    "rank = 3"
   ]
  },
  {
   "cell_type": "code",
   "execution_count": 31,
   "metadata": {},
   "outputs": [
    {
     "name": "stdout",
     "output_type": "stream",
     "text": [
      "Access granted\n"
     ]
    }
   ],
   "source": [
    "if name == 'mioro' or rank >= 4:\n",
    "    print(\"Access granted\")\n",
    "else:\n",
    "    print(\"Access denied\")"
   ]
  },
  {
   "cell_type": "code",
   "execution_count": null,
   "metadata": {},
   "outputs": [
    {
     "name": "stdout",
     "output_type": "stream",
     "text": [
      "You are one year older than me\n"
     ]
    }
   ],
   "source": [
    "# number 2\n",
    "\n",
    "my_age = int(input(\"My age: \"))\n",
    "your_age = int(input(\"Enter your age: \"))\n",
    "\n",
    "if my_age > your_age:\n",
    "    difference = my_age - your_age\n",
    "    if difference == 1:\n",
    "        print(\"I am one year older than you\")\n",
    "    else:\n",
    "        print(f\"I am {difference} years older than you\")\n",
    "elif my_age == your_age:\n",
    "    print(\"We have the same age!\")\n",
    "else:\n",
    "    difference = your_age - my_age\n",
    "    if difference == 1:\n",
    "        print(\"You are one year older than me\")\n",
    "    else:\n",
    "        print(f\"You are {difference} years older than me!\")"
   ]
  },
  {
   "cell_type": "code",
   "execution_count": null,
   "metadata": {},
   "outputs": [
    {
     "name": "stdout",
     "output_type": "stream",
     "text": [
      "C\n"
     ]
    }
   ],
   "source": [
    "# level 2 exercises number 1\n",
    "\n",
    "enter_score = int(input(\"Enter your score: \"))\n",
    "\n",
    "if 80 <= enter_score <= 100:\n",
    "    print('A')\n",
    "elif 70 <= enter_score <= 80:\n",
    "    print('B')\n",
    "elif 60 <= enter_score <= 69:\n",
    "    print('C')\n",
    "elif 50 <= enter_score <= 59:\n",
    "    print('D')\n",
    "else:\n",
    "    print('E')\n"
   ]
  },
  {
   "cell_type": "code",
   "execution_count": 42,
   "metadata": {},
   "outputs": [
    {
     "name": "stdout",
     "output_type": "stream",
     "text": [
      "Winter\n"
     ]
    }
   ],
   "source": [
    "# level 2 exercises number 2\n",
    "user_input = str(input(\"Enter month to know the season: \"))\n",
    "\n",
    "Autumn = ('September', 'October', 'November')\n",
    "Winter = ('December', 'January', 'February')\n",
    "Spring = ('March','April','May')\n",
    "Summer = ('June','July', 'August')\n",
    "\n",
    "if user_input in Autumn:\n",
    "    print(\"Autumn\")\n",
    "elif user_input in Winter:\n",
    "    print(\"Winter\")\n",
    "elif user_input in Spring:\n",
    "    print(\"Spring\")\n",
    "elif user_input in Summer:\n",
    "    print(\"Summer\")\n",
    "else:\n",
    "    print(\"Invalid month\")\n",
    "\n"
   ]
  },
  {
   "cell_type": "code",
   "execution_count": 47,
   "metadata": {},
   "outputs": [
    {
     "name": "stdout",
     "output_type": "stream",
     "text": [
      "That fruit exists!\n",
      "['banana', 'orange', 'mango', 'lemon']\n"
     ]
    }
   ],
   "source": [
    "# number 3\n",
    "fruits = ['banana', 'orange', 'mango', 'lemon']\n",
    "add_fruits = input(\"Add a fruit you desire: \")\n",
    "\n",
    "if add_fruits in fruits:\n",
    "    print(\"That fruit exists!\")\n",
    "else:\n",
    "    fruits.append(add_fruits)\n",
    "    print(\"Fruit added!\")\n",
    "\n",
    "print(fruits)\n"
   ]
  },
  {
   "cell_type": "markdown",
   "metadata": {},
   "source": []
  }
 ],
 "metadata": {
  "kernelspec": {
   "display_name": ".venv",
   "language": "python",
   "name": "python3"
  },
  "language_info": {
   "codemirror_mode": {
    "name": "ipython",
    "version": 3
   },
   "file_extension": ".py",
   "mimetype": "text/x-python",
   "name": "python",
   "nbconvert_exporter": "python",
   "pygments_lexer": "ipython3",
   "version": "3.12.8"
  }
 },
 "nbformat": 4,
 "nbformat_minor": 2
}
