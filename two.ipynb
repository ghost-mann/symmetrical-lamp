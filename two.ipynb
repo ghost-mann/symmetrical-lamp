{
 "cells": [
  {
   "cell_type": "markdown",
   "metadata": {},
   "source": [
    "## Function returning a value\n"
   ]
  },
  {
   "cell_type": "markdown",
   "metadata": {},
   "source": [
    "Type of value to be returned\n",
    "- string\n",
    "- number\n",
    "- boolean\n",
    "- list"
   ]
  },
  {
   "cell_type": "code",
   "execution_count": 4,
   "metadata": {},
   "outputs": [],
   "source": [
    "def print_name(first_name):\n",
    "    return first_name\n"
   ]
  },
  {
   "cell_type": "code",
   "execution_count": 5,
   "metadata": {},
   "outputs": [
    {
     "data": {
      "text/plain": [
       "'frank'"
      ]
     },
     "execution_count": 5,
     "metadata": {},
     "output_type": "execute_result"
    }
   ],
   "source": [
    "print_name('frank')"
   ]
  },
  {
   "cell_type": "code",
   "execution_count": 6,
   "metadata": {},
   "outputs": [
    {
     "data": {
      "text/plain": [
       "3"
      ]
     },
     "execution_count": 6,
     "metadata": {},
     "output_type": "execute_result"
    }
   ],
   "source": [
    "def add_num(n1,n2):\n",
    "    total = n1 + n2\n",
    "    return total\n",
    "\n",
    "add_num(1,2)"
   ]
  },
  {
   "cell_type": "code",
   "execution_count": 11,
   "metadata": {},
   "outputs": [
    {
     "data": {
      "text/plain": [
       "False"
      ]
     },
     "execution_count": 11,
     "metadata": {},
     "output_type": "execute_result"
    }
   ],
   "source": [
    "# boolean \n",
    "def is_even(n):\n",
    "    if n % 2 == 0:\n",
    "        print('even')\n",
    "        return True\n",
    "    \n",
    "    return False\n",
    "\n",
    "is_even(3)\n"
   ]
  },
  {
   "cell_type": "code",
   "execution_count": 12,
   "metadata": {},
   "outputs": [
    {
     "name": "stdout",
     "output_type": "stream",
     "text": [
      "Austin\n",
      "Kamau\n"
     ]
    },
    {
     "data": {
      "text/plain": [
       "[]"
      ]
     },
     "execution_count": 12,
     "metadata": {},
     "output_type": "execute_result"
    }
   ],
   "source": [
    "def get_list(items):\n",
    "    lists = []\n",
    "    for i in items:\n",
    "        print(i)\n",
    "    return lists\n",
    "\n",
    "get_list(['Austin', 'Kamau'])\n",
    "    "
   ]
  },
  {
   "cell_type": "code",
   "execution_count": 13,
   "metadata": {},
   "outputs": [
    {
     "data": {
      "text/plain": [
       "[0, 2, 4]"
      ]
     },
     "execution_count": 13,
     "metadata": {},
     "output_type": "execute_result"
    }
   ],
   "source": [
    "def get_items(n):\n",
    "    even=[]\n",
    "    for i in range(n+1):\n",
    "        if i % 2 == 0:\n",
    "            even.append(i)\n",
    "    return even\n",
    "get_items(5)"
   ]
  },
  {
   "cell_type": "markdown",
   "metadata": {},
   "source": [
    "## Functions with default parameters\n",
    "\n",
    "- Sometimes we pass default values to parameters, when we invoke a function.If we do not pass arguments when calling the function, their default values will be used."
   ]
  },
  {
   "cell_type": "code",
   "execution_count": null,
   "metadata": {},
   "outputs": [],
   "source": [
    "# syntax\n",
    "\n",
    "def function_name(param = value):\n",
    "    # code\n",
    "\n",
    "# call the function\n",
    "function_name()\n",
    "function_name(arg)"
   ]
  },
  {
   "cell_type": "code",
   "execution_count": 16,
   "metadata": {},
   "outputs": [
    {
     "data": {
      "text/plain": [
       "'Frank,how are you doing?'"
      ]
     },
     "execution_count": 16,
     "metadata": {},
     "output_type": "execute_result"
    }
   ],
   "source": [
    "def greetings(name='Austin'):\n",
    "   message = name + ',' 'how are you doing?'\n",
    "   return message\n",
    "\n",
    "greetings('Frank')"
   ]
  },
  {
   "cell_type": "code",
   "execution_count": 18,
   "metadata": {},
   "outputs": [
    {
     "data": {
      "text/plain": [
       "92"
      ]
     },
     "execution_count": 18,
     "metadata": {},
     "output_type": "execute_result"
    }
   ],
   "source": [
    "def calc_year(birth_year, current_year=2025):\n",
    "    age = current_year - birth_year\n",
    "    return age\n",
    "\n",
    "calc_year(1933)\n"
   ]
  },
  {
   "cell_type": "markdown",
   "metadata": {},
   "source": [
    "## Arbitrary Number of arguments\n",
    "\n",
    "- (*args): if the number of arguments to be passed into the function is unknown,we add a (*) before the argument name.\n"
   ]
  },
  {
   "cell_type": "code",
   "execution_count": null,
   "metadata": {},
   "outputs": [],
   "source": [
    "def function_name(*args):\n",
    "    # codes\n",
    "\n",
    "function_name(param1, param2, param3)"
   ]
  },
  {
   "cell_type": "code",
   "execution_count": 21,
   "metadata": {},
   "outputs": [
    {
     "data": {
      "text/plain": [
       "9"
      ]
     },
     "execution_count": 21,
     "metadata": {},
     "output_type": "execute_result"
    }
   ],
   "source": [
    "def sum_all(*num):\n",
    "    total = 0\n",
    "    for i in num:\n",
    "        total = total + i\n",
    "    return total\n",
    "\n",
    "sum_all(2,3,4)\n"
   ]
  },
  {
   "cell_type": "code",
   "execution_count": 25,
   "metadata": {},
   "outputs": [
    {
     "name": "stdout",
     "output_type": "stream",
     "text": [
      "team-1\n",
      "job\n",
      "check\n",
      "davy\n"
     ]
    }
   ],
   "source": [
    "def groups(team,*args):\n",
    "    print(team)\n",
    "    for i in args:\n",
    "        print(i)\n",
    "\n",
    "groups('team-1', 'job', 'check', 'davy')"
   ]
  },
  {
   "cell_type": "code",
   "execution_count": 28,
   "metadata": {},
   "outputs": [
    {
     "name": "stdout",
     "output_type": "stream",
     "text": [
      "name:james\n",
      "age:78\n",
      "city:nyanza\n"
     ]
    }
   ],
   "source": [
    "def dict_1(**kwargs):\n",
    "    for key, value in kwargs.items():\n",
    "        print(f\"{key}:{value}\")\n",
    "\n",
    "dict_1(name='james', age=78, city=\"nyanza\")"
   ]
  },
  {
   "cell_type": "code",
   "execution_count": 31,
   "metadata": {},
   "outputs": [
    {
     "name": "stdout",
     "output_type": "stream",
     "text": [
      "Positional arguments: (1, 2)\n",
      "Keyword arguments: {'name': 'frank'}\n"
     ]
    }
   ],
   "source": [
    "def dict_2(*args, **kwargs):\n",
    "    print(\"Positional arguments:\", args)\n",
    "    print(\"Keyword arguments:\",kwargs)\n",
    "\n",
    "dict_2(1,2, name=\"frank\")"
   ]
  }
 ],
 "metadata": {
  "kernelspec": {
   "display_name": ".venv",
   "language": "python",
   "name": "python3"
  },
  "language_info": {
   "codemirror_mode": {
    "name": "ipython",
    "version": 3
   },
   "file_extension": ".py",
   "mimetype": "text/x-python",
   "name": "python",
   "nbconvert_exporter": "python",
   "pygments_lexer": "ipython3",
   "version": "3.12.8"
  }
 },
 "nbformat": 4,
 "nbformat_minor": 2
}
